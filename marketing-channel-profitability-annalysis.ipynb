{
 "cells": [
  {
   "cell_type": "markdown",
   "id": "e4e6e9d9",
   "metadata": {
    "papermill": {
     "duration": 0.012163,
     "end_time": "2023-09-12T15:12:17.286291",
     "exception": false,
     "start_time": "2023-09-12T15:12:17.274128",
     "status": "completed"
    },
    "tags": []
   },
   "source": [
    "# BUSINESS PROBLEM SETTING"
   ]
  },
  {
   "cell_type": "markdown",
   "id": "381bfe63",
   "metadata": {
    "papermill": {
     "duration": 0.010843,
     "end_time": "2023-09-12T15:12:17.308376",
     "exception": false,
     "start_time": "2023-09-12T15:12:17.297533",
     "status": "completed"
    },
    "tags": []
   },
   "source": [
    "Case study of a online retailer specializing in consumer electronics seeking patterns on performance of each acquisition channel, revealing which channels to double down and which to cut budget onto. With a wide range marketing channels that brands are present to reach their customer prospects and put the messaging out there, it's important to reflect on which channel converts better, which channel costs less and which channel brings in the most revenue. The objective of this analysis is to extract useful knowledge on performance of each acquisition channel and bring out insights to inform budgeting as well as customer targeting strategies."
   ]
  },
  {
   "cell_type": "code",
   "execution_count": 1,
   "id": "539364fe",
   "metadata": {
    "_cell_guid": "b1076dfc-b9ad-4769-8c92-a6c4dae69d19",
    "_uuid": "8f2839f25d086af736a60e9eeb907d3b93b6e0e5",
    "execution": {
     "iopub.execute_input": "2023-09-12T15:12:17.333675Z",
     "iopub.status.busy": "2023-09-12T15:12:17.333229Z",
     "iopub.status.idle": "2023-09-12T15:12:19.540768Z",
     "shell.execute_reply": "2023-09-12T15:12:19.539343Z"
    },
    "papermill": {
     "duration": 2.22399,
     "end_time": "2023-09-12T15:12:19.543877",
     "exception": false,
     "start_time": "2023-09-12T15:12:17.319887",
     "status": "completed"
    },
    "tags": []
   },
   "outputs": [],
   "source": [
    "#import libraries\n",
    "import numpy as np \n",
    "import pandas as pd \n",
    "import matplotlib.pyplot as plt\n",
    "import seaborn as sns"
   ]
  },
  {
   "cell_type": "markdown",
   "id": "484756e5",
   "metadata": {
    "papermill": {
     "duration": 0.010967,
     "end_time": "2023-09-12T15:12:19.565997",
     "exception": false,
     "start_time": "2023-09-12T15:12:19.555030",
     "status": "completed"
    },
    "tags": []
   },
   "source": [
    "# DATA UNDERSTANDING"
   ]
  },
  {
   "cell_type": "markdown",
   "id": "43057842",
   "metadata": {
    "papermill": {
     "duration": 0.01074,
     "end_time": "2023-09-12T15:12:19.587828",
     "exception": false,
     "start_time": "2023-09-12T15:12:19.577088",
     "status": "completed"
    },
    "tags": []
   },
   "source": [
    "The given dataset provides data values and categories on following variables:\n",
    "* customer_id: unique identifier of each customer\n",
    "* channel: marketing channel that acquires the customer (first-touch attribution)\n",
    "* cost: total cost to acquire the particular customer\n",
    "* conversion_rate: ratio of successful purchase conversions to the total number of interactions of the customer\n",
    "* revenue: total revenue the customer has brought in\n"
   ]
  },
  {
   "cell_type": "code",
   "execution_count": 2,
   "id": "0b6a067c",
   "metadata": {
    "execution": {
     "iopub.execute_input": "2023-09-12T15:12:19.612347Z",
     "iopub.status.busy": "2023-09-12T15:12:19.611674Z",
     "iopub.status.idle": "2023-09-12T15:12:19.654179Z",
     "shell.execute_reply": "2023-09-12T15:12:19.653004Z"
    },
    "papermill": {
     "duration": 0.05849,
     "end_time": "2023-09-12T15:12:19.657217",
     "exception": false,
     "start_time": "2023-09-12T15:12:19.598727",
     "status": "completed"
    },
    "tags": []
   },
   "outputs": [
    {
     "name": "stdout",
     "output_type": "stream",
     "text": [
      "   customer_id           channel       cost  conversion_rate  revenue\n",
      "0            1          referral   8.320327         0.123145     4199\n",
      "1            2  paid advertising  30.450327         0.016341     3410\n",
      "2            3   email marketing   5.246263         0.043822     3164\n",
      "3            4      social media   9.546326         0.167592     1520\n",
      "4            5          referral   8.320327         0.123145     2419\n"
     ]
    }
   ],
   "source": [
    "data = pd.read_csv('/kaggle/input/customer-lifetime-value-analytics-case-study/customer_acquisition_data.csv')\n",
    "print(data.head())"
   ]
  },
  {
   "cell_type": "code",
   "execution_count": 3,
   "id": "d6450e4d",
   "metadata": {
    "execution": {
     "iopub.execute_input": "2023-09-12T15:12:19.681895Z",
     "iopub.status.busy": "2023-09-12T15:12:19.680686Z",
     "iopub.status.idle": "2023-09-12T15:12:19.689103Z",
     "shell.execute_reply": "2023-09-12T15:12:19.688239Z"
    },
    "papermill": {
     "duration": 0.024411,
     "end_time": "2023-09-12T15:12:19.692699",
     "exception": false,
     "start_time": "2023-09-12T15:12:19.668288",
     "status": "completed"
    },
    "tags": []
   },
   "outputs": [
    {
     "data": {
      "text/plain": [
       "(800, 5)"
      ]
     },
     "execution_count": 3,
     "metadata": {},
     "output_type": "execute_result"
    }
   ],
   "source": [
    "data.shape"
   ]
  },
  {
   "cell_type": "code",
   "execution_count": 4,
   "id": "632da413",
   "metadata": {
    "execution": {
     "iopub.execute_input": "2023-09-12T15:12:19.718860Z",
     "iopub.status.busy": "2023-09-12T15:12:19.718243Z",
     "iopub.status.idle": "2023-09-12T15:12:19.749406Z",
     "shell.execute_reply": "2023-09-12T15:12:19.748539Z"
    },
    "papermill": {
     "duration": 0.047438,
     "end_time": "2023-09-12T15:12:19.751993",
     "exception": false,
     "start_time": "2023-09-12T15:12:19.704555",
     "status": "completed"
    },
    "tags": []
   },
   "outputs": [
    {
     "name": "stdout",
     "output_type": "stream",
     "text": [
      "<class 'pandas.core.frame.DataFrame'>\n",
      "RangeIndex: 800 entries, 0 to 799\n",
      "Data columns (total 5 columns):\n",
      " #   Column           Non-Null Count  Dtype  \n",
      "---  ------           --------------  -----  \n",
      " 0   customer_id      800 non-null    int64  \n",
      " 1   channel          800 non-null    object \n",
      " 2   cost             800 non-null    float64\n",
      " 3   conversion_rate  800 non-null    float64\n",
      " 4   revenue          800 non-null    int64  \n",
      "dtypes: float64(2), int64(2), object(1)\n",
      "memory usage: 31.4+ KB\n"
     ]
    }
   ],
   "source": [
    "data.info()"
   ]
  },
  {
   "cell_type": "code",
   "execution_count": 5,
   "id": "c1f2a3ce",
   "metadata": {
    "execution": {
     "iopub.execute_input": "2023-09-12T15:12:19.777992Z",
     "iopub.status.busy": "2023-09-12T15:12:19.777554Z",
     "iopub.status.idle": "2023-09-12T15:12:19.785361Z",
     "shell.execute_reply": "2023-09-12T15:12:19.784211Z"
    },
    "papermill": {
     "duration": 0.023584,
     "end_time": "2023-09-12T15:12:19.787695",
     "exception": false,
     "start_time": "2023-09-12T15:12:19.764111",
     "status": "completed"
    },
    "tags": []
   },
   "outputs": [
    {
     "data": {
      "text/plain": [
       "array(['referral', 'paid advertising', 'email marketing', 'social media'],\n",
       "      dtype=object)"
      ]
     },
     "execution_count": 5,
     "metadata": {},
     "output_type": "execute_result"
    }
   ],
   "source": [
    "#how many unique categories of the channel variable\n",
    "data['channel'].unique()"
   ]
  },
  {
   "cell_type": "code",
   "execution_count": 6,
   "id": "7da9f7ad",
   "metadata": {
    "execution": {
     "iopub.execute_input": "2023-09-12T15:12:19.814153Z",
     "iopub.status.busy": "2023-09-12T15:12:19.813420Z",
     "iopub.status.idle": "2023-09-12T15:12:19.844735Z",
     "shell.execute_reply": "2023-09-12T15:12:19.843341Z"
    },
    "papermill": {
     "duration": 0.048763,
     "end_time": "2023-09-12T15:12:19.848668",
     "exception": false,
     "start_time": "2023-09-12T15:12:19.799905",
     "status": "completed"
    },
    "tags": []
   },
   "outputs": [
    {
     "data": {
      "text/html": [
       "<div>\n",
       "<style scoped>\n",
       "    .dataframe tbody tr th:only-of-type {\n",
       "        vertical-align: middle;\n",
       "    }\n",
       "\n",
       "    .dataframe tbody tr th {\n",
       "        vertical-align: top;\n",
       "    }\n",
       "\n",
       "    .dataframe thead th {\n",
       "        text-align: right;\n",
       "    }\n",
       "</style>\n",
       "<table border=\"1\" class=\"dataframe\">\n",
       "  <thead>\n",
       "    <tr style=\"text-align: right;\">\n",
       "      <th></th>\n",
       "      <th>cost</th>\n",
       "      <th>conversion_rate</th>\n",
       "      <th>revenue</th>\n",
       "    </tr>\n",
       "  </thead>\n",
       "  <tbody>\n",
       "    <tr>\n",
       "      <th>count</th>\n",
       "      <td>800.000000</td>\n",
       "      <td>800.000000</td>\n",
       "      <td>800.000000</td>\n",
       "    </tr>\n",
       "    <tr>\n",
       "      <th>mean</th>\n",
       "      <td>13.148052</td>\n",
       "      <td>0.086305</td>\n",
       "      <td>2769.151250</td>\n",
       "    </tr>\n",
       "    <tr>\n",
       "      <th>std</th>\n",
       "      <td>9.922337</td>\n",
       "      <td>0.059611</td>\n",
       "      <td>1259.543706</td>\n",
       "    </tr>\n",
       "    <tr>\n",
       "      <th>min</th>\n",
       "      <td>5.246263</td>\n",
       "      <td>0.016341</td>\n",
       "      <td>500.000000</td>\n",
       "    </tr>\n",
       "    <tr>\n",
       "      <th>25%</th>\n",
       "      <td>5.246263</td>\n",
       "      <td>0.043822</td>\n",
       "      <td>1694.000000</td>\n",
       "    </tr>\n",
       "    <tr>\n",
       "      <th>50%</th>\n",
       "      <td>8.320327</td>\n",
       "      <td>0.043822</td>\n",
       "      <td>2764.000000</td>\n",
       "    </tr>\n",
       "    <tr>\n",
       "      <th>75%</th>\n",
       "      <td>9.546326</td>\n",
       "      <td>0.123145</td>\n",
       "      <td>3824.250000</td>\n",
       "    </tr>\n",
       "    <tr>\n",
       "      <th>max</th>\n",
       "      <td>30.450327</td>\n",
       "      <td>0.167592</td>\n",
       "      <td>4998.000000</td>\n",
       "    </tr>\n",
       "  </tbody>\n",
       "</table>\n",
       "</div>"
      ],
      "text/plain": [
       "             cost  conversion_rate      revenue\n",
       "count  800.000000       800.000000   800.000000\n",
       "mean    13.148052         0.086305  2769.151250\n",
       "std      9.922337         0.059611  1259.543706\n",
       "min      5.246263         0.016341   500.000000\n",
       "25%      5.246263         0.043822  1694.000000\n",
       "50%      8.320327         0.043822  2764.000000\n",
       "75%      9.546326         0.123145  3824.250000\n",
       "max     30.450327         0.167592  4998.000000"
      ]
     },
     "execution_count": 6,
     "metadata": {},
     "output_type": "execute_result"
    }
   ],
   "source": [
    "#summery statistics (mean, min, max) of cost, conversion_rate, revenue and the distribution of the data for each variable\n",
    "data.drop('customer_id', axis=1).describe()"
   ]
  },
  {
   "cell_type": "code",
   "execution_count": 7,
   "id": "84674393",
   "metadata": {
    "execution": {
     "iopub.execute_input": "2023-09-12T15:12:19.874936Z",
     "iopub.status.busy": "2023-09-12T15:12:19.874516Z",
     "iopub.status.idle": "2023-09-12T15:12:19.892787Z",
     "shell.execute_reply": "2023-09-12T15:12:19.891552Z"
    },
    "papermill": {
     "duration": 0.034216,
     "end_time": "2023-09-12T15:12:19.895211",
     "exception": false,
     "start_time": "2023-09-12T15:12:19.860995",
     "status": "completed"
    },
    "tags": []
   },
   "outputs": [
    {
     "data": {
      "text/html": [
       "<div>\n",
       "<style scoped>\n",
       "    .dataframe tbody tr th:only-of-type {\n",
       "        vertical-align: middle;\n",
       "    }\n",
       "\n",
       "    .dataframe tbody tr th {\n",
       "        vertical-align: top;\n",
       "    }\n",
       "\n",
       "    .dataframe thead th {\n",
       "        text-align: right;\n",
       "    }\n",
       "</style>\n",
       "<table border=\"1\" class=\"dataframe\">\n",
       "  <thead>\n",
       "    <tr style=\"text-align: right;\">\n",
       "      <th></th>\n",
       "      <th>cost</th>\n",
       "      <th>conversion_rate</th>\n",
       "      <th>revenue</th>\n",
       "    </tr>\n",
       "  </thead>\n",
       "  <tbody>\n",
       "    <tr>\n",
       "      <th>cost</th>\n",
       "      <td>1.000000</td>\n",
       "      <td>-0.537430</td>\n",
       "      <td>0.018642</td>\n",
       "    </tr>\n",
       "    <tr>\n",
       "      <th>conversion_rate</th>\n",
       "      <td>-0.537430</td>\n",
       "      <td>1.000000</td>\n",
       "      <td>-0.050456</td>\n",
       "    </tr>\n",
       "    <tr>\n",
       "      <th>revenue</th>\n",
       "      <td>0.018642</td>\n",
       "      <td>-0.050456</td>\n",
       "      <td>1.000000</td>\n",
       "    </tr>\n",
       "  </tbody>\n",
       "</table>\n",
       "</div>"
      ],
      "text/plain": [
       "                     cost  conversion_rate   revenue\n",
       "cost             1.000000        -0.537430  0.018642\n",
       "conversion_rate -0.537430         1.000000 -0.050456\n",
       "revenue          0.018642        -0.050456  1.000000"
      ]
     },
     "execution_count": 7,
     "metadata": {},
     "output_type": "execute_result"
    }
   ],
   "source": [
    "#correlation overview of 3 main variables\n",
    "data.drop('customer_id', axis=1).set_index('channel').corr()"
   ]
  },
  {
   "cell_type": "markdown",
   "id": "1d5031e2",
   "metadata": {
    "papermill": {
     "duration": 0.011938,
     "end_time": "2023-09-12T15:12:19.919970",
     "exception": false,
     "start_time": "2023-09-12T15:12:19.908032",
     "status": "completed"
    },
    "tags": []
   },
   "source": [
    "# EXPLORATORY DATA ANALYSIS: WHICH CHANNEL IS THE MOST PROFITABLE?"
   ]
  },
  {
   "cell_type": "markdown",
   "id": "c3097d77",
   "metadata": {
    "papermill": {
     "duration": 0.012465,
     "end_time": "2023-09-12T15:12:19.944722",
     "exception": false,
     "start_time": "2023-09-12T15:12:19.932257",
     "status": "completed"
    },
    "tags": []
   },
   "source": [
    "# Numeric data distribution of cost, conversion rate and revenue"
   ]
  },
  {
   "cell_type": "code",
   "execution_count": 8,
   "id": "60ed1128",
   "metadata": {
    "execution": {
     "iopub.execute_input": "2023-09-12T15:12:19.972752Z",
     "iopub.status.busy": "2023-09-12T15:12:19.972298Z",
     "iopub.status.idle": "2023-09-12T15:12:21.179307Z",
     "shell.execute_reply": "2023-09-12T15:12:21.178017Z"
    },
    "papermill": {
     "duration": 1.224863,
     "end_time": "2023-09-12T15:12:21.182294",
     "exception": false,
     "start_time": "2023-09-12T15:12:19.957431",
     "status": "completed"
    },
    "tags": []
   },
   "outputs": [
    {
     "data": {
      "image/png": "[encoded data removed]",
      "text/plain": [
       "<Figure size 1200x400 with 3 Axes>"
      ]
     },
     "metadata": {},
     "output_type": "display_data"
    }
   ],
   "source": [
    "#data distribution of main variables\n",
    "data.drop('customer_id', axis=1).hist(figsize=(12,4),color='lightgreen', layout=(1,3))\n",
    "plt.tight_layout()"
   ]
  },
  {
   "cell_type": "markdown",
   "id": "5bbc9b47",
   "metadata": {
    "papermill": {
     "duration": 0.012864,
     "end_time": "2023-09-12T15:12:21.207998",
     "exception": false,
     "start_time": "2023-09-12T15:12:21.195134",
     "status": "completed"
    },
    "tags": []
   },
   "source": [
    "There doesn't seem to have any patterns in the data distribution of values of cost, conversion rate and revenue. One hypothesis is that the data is quite limited to form any clearer trends like a normal distribution or tails in value distribution."
   ]
  },
  {
   "cell_type": "markdown",
   "id": "ee24a4ba",
   "metadata": {
    "papermill": {
     "duration": 0.013688,
     "end_time": "2023-09-12T15:12:21.237735",
     "exception": false,
     "start_time": "2023-09-12T15:12:21.224047",
     "status": "completed"
    },
    "tags": []
   },
   "source": [
    "# Revenue percentage by channel"
   ]
  },
  {
   "cell_type": "code",
   "execution_count": 9,
   "id": "af78fea1",
   "metadata": {
    "execution": {
     "iopub.execute_input": "2023-09-12T15:12:21.270143Z",
     "iopub.status.busy": "2023-09-12T15:12:21.269046Z",
     "iopub.status.idle": "2023-09-12T15:12:21.477247Z",
     "shell.execute_reply": "2023-09-12T15:12:21.476050Z"
    },
    "papermill": {
     "duration": 0.230218,
     "end_time": "2023-09-12T15:12:21.482248",
     "exception": false,
     "start_time": "2023-09-12T15:12:21.252030",
     "status": "completed"
    },
    "tags": []
   },
   "outputs": [
    {
     "data": {
      "text/plain": [
       "Text(0, 0.5, '')"
      ]
     },
     "execution_count": 9,
     "metadata": {},
     "output_type": "execute_result"
    },
    {
     "data": {
      "image/png": "[encoded data removed]",
      "text/plain": [
       "<Figure size 640x480 with 1 Axes>"
      ]
     },
     "metadata": {},
     "output_type": "display_data"
    }
   ],
   "source": [
    "#revenue percentage by channel\n",
    "data.groupby('channel')['revenue'].sum().plot.pie(colors = ['salmon', 'lightblue', 'lightgreen', 'orange'],autopct='%1.1f%%')\n",
    "plt.title('Revenue by channel')\n",
    "plt.ylabel('')\n"
   ]
  },
  {
   "cell_type": "markdown",
   "id": "9709a709",
   "metadata": {
    "papermill": {
     "duration": 0.02053,
     "end_time": "2023-09-12T15:12:21.531055",
     "exception": false,
     "start_time": "2023-09-12T15:12:21.510525",
     "status": "completed"
    },
    "tags": []
   },
   "source": [
    "Email marketing is the highest revenue-contributing channel, accounting for 27.3% of the total revenue, while social media contributes the least, representing 22.2% of the total revenue. Since the differences in percentage are relatively small, it is difficult to draw definitive conclusions about the performance of individual channels in comparison to one another."
   ]
  },
  {
   "cell_type": "code",
   "execution_count": 10,
   "id": "06d3bfa1",
   "metadata": {
    "execution": {
     "iopub.execute_input": "2023-09-12T15:12:21.560813Z",
     "iopub.status.busy": "2023-09-12T15:12:21.560255Z",
     "iopub.status.idle": "2023-09-12T15:12:21.883772Z",
     "shell.execute_reply": "2023-09-12T15:12:21.882131Z"
    },
    "papermill": {
     "duration": 0.343656,
     "end_time": "2023-09-12T15:12:21.888330",
     "exception": false,
     "start_time": "2023-09-12T15:12:21.544674",
     "status": "completed"
    },
    "tags": []
   },
   "outputs": [
    {
     "data": {
      "image/png": "[encoded data removed]",
      "text/plain": [
       "<Figure size 640x480 with 1 Axes>"
      ]
     },
     "metadata": {},
     "output_type": "display_data"
    }
   ],
   "source": [
    "data.boxplot(column='revenue', by='channel', color='green')\n",
    "plt.xlabel('Channel')\n",
    "plt.ylabel('Conversion Rate')\n",
    "plt.title('Revenue distribution by channel')\n",
    "plt.show()"
   ]
  },
  {
   "cell_type": "markdown",
   "id": "fba3bb5b",
   "metadata": {
    "papermill": {
     "duration": 0.014426,
     "end_time": "2023-09-12T15:12:21.918926",
     "exception": false,
     "start_time": "2023-09-12T15:12:21.904500",
     "status": "completed"
    },
    "tags": []
   },
   "source": [
    "This boxplot provides a different angle at the revenue by channel. Even though paid advertising contribute the least to the total revenue, in the revenue data points, paid ads has higher mean (second quartile), first quartile and third quartile than those of referral and social media channels."
   ]
  },
  {
   "cell_type": "markdown",
   "id": "a906a60f",
   "metadata": {
    "papermill": {
     "duration": 0.015074,
     "end_time": "2023-09-12T15:12:21.948058",
     "exception": false,
     "start_time": "2023-09-12T15:12:21.932984",
     "status": "completed"
    },
    "tags": []
   },
   "source": [
    "# Conversion rate by marketing channel"
   ]
  },
  {
   "cell_type": "code",
   "execution_count": 11,
   "id": "1c43a415",
   "metadata": {
    "execution": {
     "iopub.execute_input": "2023-09-12T15:12:21.989173Z",
     "iopub.status.busy": "2023-09-12T15:12:21.987585Z",
     "iopub.status.idle": "2023-09-12T15:12:22.416798Z",
     "shell.execute_reply": "2023-09-12T15:12:22.415175Z"
    },
    "papermill": {
     "duration": 0.44969,
     "end_time": "2023-09-12T15:12:22.419655",
     "exception": false,
     "start_time": "2023-09-12T15:12:21.969965",
     "status": "completed"
    },
    "tags": []
   },
   "outputs": [
    {
     "data": {
      "text/plain": [
       "Text(0.5, 1.0, 'Average conversion rate by channel')"
      ]
     },
     "execution_count": 11,
     "metadata": {},
     "output_type": "execute_result"
    },
    {
     "data": {
      "image/png": "[encoded data removed]",
      "text/plain": [
       "<Figure size 640x480 with 1 Axes>"
      ]
     },
     "metadata": {},
     "output_type": "display_data"
    }
   ],
   "source": [
    "#Group average conversion rate by channel \n",
    "con_data=data.groupby('channel')['conversion_rate'].mean()\n",
    "con_data.plot.bar (x='channel', y='conversion_rate', color=['skyblue', 'salmon', 'lightgreen', 'gold'])\n",
    "plt.xlabel('Channel')\n",
    "plt.xticks(fontsize=10, rotation=45)\n",
    "plt.ylabel('Average conversion rate')\n",
    "plt.yticks(fontsize=10)\n",
    "plt.title('Average conversion rate by channel')"
   ]
  },
  {
   "cell_type": "markdown",
   "id": "d7976b39",
   "metadata": {
    "papermill": {
     "duration": 0.016146,
     "end_time": "2023-09-12T15:12:22.451362",
     "exception": false,
     "start_time": "2023-09-12T15:12:22.435216",
     "status": "completed"
    },
    "tags": []
   },
   "source": [
    "Social media has the highest conversion rates,surpassing an average rate of 0.16. On the other hand, paid advertising represents the lowest conversion performance when falling below an average rate of 0.02. Given the similar behaviors and affinity patterns among customers from each marketing channel, identifying the acquisition channel that attracts engaged and converting customers is important as this insight enables businesses to strategically allocate the marketing resources and efforts."
   ]
  },
  {
   "cell_type": "markdown",
   "id": "c99f760d",
   "metadata": {
    "papermill": {
     "duration": 0.01519,
     "end_time": "2023-09-12T15:12:22.481945",
     "exception": false,
     "start_time": "2023-09-12T15:12:22.466755",
     "status": "completed"
    },
    "tags": []
   },
   "source": [
    "# Cost per acquisition (CAC) by marketing channel"
   ]
  },
  {
   "cell_type": "code",
   "execution_count": 12,
   "id": "96d0d4a2",
   "metadata": {
    "execution": {
     "iopub.execute_input": "2023-09-12T15:12:22.514713Z",
     "iopub.status.busy": "2023-09-12T15:12:22.514321Z",
     "iopub.status.idle": "2023-09-12T15:12:22.531741Z",
     "shell.execute_reply": "2023-09-12T15:12:22.530617Z"
    },
    "papermill": {
     "duration": 0.037326,
     "end_time": "2023-09-12T15:12:22.534858",
     "exception": false,
     "start_time": "2023-09-12T15:12:22.497532",
     "status": "completed"
    },
    "tags": []
   },
   "outputs": [
    {
     "data": {
      "text/html": [
       "<div>\n",
       "<style scoped>\n",
       "    .dataframe tbody tr th:only-of-type {\n",
       "        vertical-align: middle;\n",
       "    }\n",
       "\n",
       "    .dataframe tbody tr th {\n",
       "        vertical-align: top;\n",
       "    }\n",
       "\n",
       "    .dataframe thead th {\n",
       "        text-align: right;\n",
       "    }\n",
       "</style>\n",
       "<table border=\"1\" class=\"dataframe\">\n",
       "  <thead>\n",
       "    <tr style=\"text-align: right;\">\n",
       "      <th></th>\n",
       "      <th>Channel</th>\n",
       "      <th>CAC</th>\n",
       "    </tr>\n",
       "  </thead>\n",
       "  <tbody>\n",
       "    <tr>\n",
       "      <th>0</th>\n",
       "      <td>email marketing</td>\n",
       "      <td>5.25</td>\n",
       "    </tr>\n",
       "    <tr>\n",
       "      <th>1</th>\n",
       "      <td>paid advertising</td>\n",
       "      <td>30.45</td>\n",
       "    </tr>\n",
       "    <tr>\n",
       "      <th>2</th>\n",
       "      <td>referral</td>\n",
       "      <td>8.32</td>\n",
       "    </tr>\n",
       "    <tr>\n",
       "      <th>3</th>\n",
       "      <td>social media</td>\n",
       "      <td>9.55</td>\n",
       "    </tr>\n",
       "  </tbody>\n",
       "</table>\n",
       "</div>"
      ],
      "text/plain": [
       "            Channel    CAC\n",
       "0   email marketing   5.25\n",
       "1  paid advertising  30.45\n",
       "2          referral   8.32\n",
       "3      social media   9.55"
      ]
     },
     "execution_count": 12,
     "metadata": {},
     "output_type": "execute_result"
    }
   ],
   "source": [
    "#calculate cost per acquisition (average cost to acquire each customer) for each channel \n",
    "cac=round((data.groupby('channel')['cost'].sum())/(data.groupby('channel')['customer_id'].count()),2)\n",
    "cac_df=pd.DataFrame({'Channel':cac.index,'CAC':cac.values})\n",
    "cac_df"
   ]
  },
  {
   "cell_type": "markdown",
   "id": "8be2193a",
   "metadata": {
    "papermill": {
     "duration": 0.015457,
     "end_time": "2023-09-12T15:12:22.565892",
     "exception": false,
     "start_time": "2023-09-12T15:12:22.550435",
     "status": "completed"
    },
    "tags": []
   },
   "source": [
    "Instead of examining cost metric, we will calculate and dive into Cost Per Acquisition (CAC) to gain a more complete understanding of the cost-effectiveness of each channel. Formula used to compute CAC is:\n",
    "\n",
    "*Customer acquisition cost = Total cost/Total customers acquired \n",
    "*\n",
    "\n",
    "This simplified CAC formula assumes that the cost column encompasses all associated expenses related to customer acquisition, such as tools, salaries, advertising spend, and more.\n"
   ]
  },
  {
   "cell_type": "markdown",
   "id": "30b11adc",
   "metadata": {
    "papermill": {
     "duration": 0.015138,
     "end_time": "2023-09-12T15:12:22.597118",
     "exception": false,
     "start_time": "2023-09-12T15:12:22.581980",
     "status": "completed"
    },
    "tags": []
   },
   "source": [
    "# Return on investment by marketing channel"
   ]
  },
  {
   "cell_type": "code",
   "execution_count": 13,
   "id": "9648bac7",
   "metadata": {
    "execution": {
     "iopub.execute_input": "2023-09-12T15:12:22.630985Z",
     "iopub.status.busy": "2023-09-12T15:12:22.629556Z",
     "iopub.status.idle": "2023-09-12T15:12:22.647837Z",
     "shell.execute_reply": "2023-09-12T15:12:22.646514Z"
    },
    "papermill": {
     "duration": 0.037986,
     "end_time": "2023-09-12T15:12:22.650691",
     "exception": false,
     "start_time": "2023-09-12T15:12:22.612705",
     "status": "completed"
    },
    "tags": []
   },
   "outputs": [
    {
     "data": {
      "text/html": [
       "<div>\n",
       "<style scoped>\n",
       "    .dataframe tbody tr th:only-of-type {\n",
       "        vertical-align: middle;\n",
       "    }\n",
       "\n",
       "    .dataframe tbody tr th {\n",
       "        vertical-align: top;\n",
       "    }\n",
       "\n",
       "    .dataframe thead th {\n",
       "        text-align: right;\n",
       "    }\n",
       "</style>\n",
       "<table border=\"1\" class=\"dataframe\">\n",
       "  <thead>\n",
       "    <tr style=\"text-align: right;\">\n",
       "      <th></th>\n",
       "      <th>Channel</th>\n",
       "      <th>ROI</th>\n",
       "    </tr>\n",
       "  </thead>\n",
       "  <tbody>\n",
       "    <tr>\n",
       "      <th>0</th>\n",
       "      <td>email marketing</td>\n",
       "      <td>53761.75</td>\n",
       "    </tr>\n",
       "    <tr>\n",
       "      <th>1</th>\n",
       "      <td>paid advertising</td>\n",
       "      <td>9183.26</td>\n",
       "    </tr>\n",
       "    <tr>\n",
       "      <th>2</th>\n",
       "      <td>referral</td>\n",
       "      <td>32969.12</td>\n",
       "    </tr>\n",
       "    <tr>\n",
       "      <th>3</th>\n",
       "      <td>social media</td>\n",
       "      <td>27796.23</td>\n",
       "    </tr>\n",
       "  </tbody>\n",
       "</table>\n",
       "</div>"
      ],
      "text/plain": [
       "            Channel       ROI\n",
       "0   email marketing  53761.75\n",
       "1  paid advertising   9183.26\n",
       "2          referral  32969.12\n",
       "3      social media  27796.23"
      ]
     },
     "execution_count": 13,
     "metadata": {},
     "output_type": "execute_result"
    }
   ],
   "source": [
    "#calculate roi (return on investment) for each channel\n",
    "roi=round((data.groupby('channel')['revenue'].sum()-data.groupby('channel')['cost'].sum())/data.groupby('channel')['cost'].sum()*100,2)\n",
    "roi_df=pd.DataFrame({'Channel': roi.index, 'ROI': roi.values})\n",
    "roi_df\n"
   ]
  },
  {
   "cell_type": "markdown",
   "id": "1e389e97",
   "metadata": {
    "papermill": {
     "duration": 0.015461,
     "end_time": "2023-09-12T15:12:22.682132",
     "exception": false,
     "start_time": "2023-09-12T15:12:22.666671",
     "status": "completed"
    },
    "tags": []
   },
   "source": [
    "ROI (return on investment) helps quantify performance of each marketing channel in terms of revenue and profit growth. The following formula is used to calculate the ROI for each channel:\n",
    "\n",
    "ROI = (Total revenue - Total cost)/Total cost * 100%\n",
    "\n",
    "Comparing ROI metric between marketing channels will help to examine which channel proves a greater efficiency in marketing spend. Paid advertising has the highest CAC and the return on investment is the lowest so the company should consider cutting down the budget or changing the bidding and targeting strategies. For example, one shift could involve refocusing paid ads on retargeting prospects who have spent a certain duration on the website, interacted with some specific products, or even better, already made previous conversions. This approach aims to reduce costs while increasing potential revenue by targeting individuals with higher purchase intent and enhanced brand awareness.\n",
    "\n",
    "\n",
    "In addition, as email marketing is the channel with the highest ROI, proving the spending on this channel has paid off, signaling there is an opportunity to increase investments in email marketing, execute more tailored campaigns, and implement engagement strategies to captivate and nurture both cold leads and existing customers.\n",
    "\n",
    "Referral also exhibits lots of potential due to the decent ROI and low CAC. It's worth exploring some experimentation ideas with new referral strategies (e.g. double referrabl amount for a month, etc.) and push more messages to promote the referral campaign to make it better known among the existing customer base.\n"
   ]
  },
  {
   "cell_type": "code",
   "execution_count": 14,
   "id": "3bb35662",
   "metadata": {
    "execution": {
     "iopub.execute_input": "2023-09-12T15:12:22.715924Z",
     "iopub.status.busy": "2023-09-12T15:12:22.715495Z",
     "iopub.status.idle": "2023-09-12T15:12:23.031084Z",
     "shell.execute_reply": "2023-09-12T15:12:23.029657Z"
    },
    "papermill": {
     "duration": 0.335832,
     "end_time": "2023-09-12T15:12:23.034042",
     "exception": false,
     "start_time": "2023-09-12T15:12:22.698210",
     "status": "completed"
    },
    "tags": []
   },
   "outputs": [
    {
     "data": {
      "text/plain": [
       "Text(0.5, 1.0, 'CAC and ROI correlation')"
      ]
     },
     "execution_count": 14,
     "metadata": {},
     "output_type": "execute_result"
    },
    {
     "data": {
      "image/png": "[encoded data removed]",
      "text/plain": [
       "<Figure size 600x600 with 1 Axes>"
      ]
     },
     "metadata": {},
     "output_type": "display_data"
    }
   ],
   "source": [
    "#plot the correlation of CAC and ROI\n",
    "plt.figure(figsize=(6, 6))\n",
    "sns.regplot(x=cac, y=roi, ci=None, scatter_kws={'color': 'salmon'}, line_kws={'color': 'green'})\n",
    "plt.xlabel('Cost per acquisiton (CAC)')\n",
    "plt.ylabel('Return on investments (ROI)')\n",
    "plt.title('CAC and ROI correlation')\n",
    "\n"
   ]
  },
  {
   "cell_type": "markdown",
   "id": "065bc2b2",
   "metadata": {
    "papermill": {
     "duration": 0.016537,
     "end_time": "2023-09-12T15:12:23.067581",
     "exception": false,
     "start_time": "2023-09-12T15:12:23.051044",
     "status": "completed"
    },
    "tags": []
   },
   "source": [
    "A negative correlation exists between the cost per acquisition (CAC) and return on investment (ROI) by channel. When CAC is higher, ROI tends to be lower. Simply increasing the budget does not mean a better investment performance. It is crucial to refine our current marketing strategies to be more targeted and strategic. With our current methods of allocating marketing budgets and acquiring customers, we are not optimizing our spending efficiently."
   ]
  },
  {
   "cell_type": "markdown",
   "id": "5fd2e81e",
   "metadata": {
    "papermill": {
     "duration": 0.114436,
     "end_time": "2023-09-12T15:12:23.199057",
     "exception": false,
     "start_time": "2023-09-12T15:12:23.084621",
     "status": "completed"
    },
    "tags": []
   },
   "source": [
    "# MARKETING CHANNEL PROFITABILITY ANALYSIS SUMMARY"
   ]
  },
  {
   "cell_type": "markdown",
   "id": "0b70354b",
   "metadata": {
    "papermill": {
     "duration": 0.016525,
     "end_time": "2023-09-12T15:12:23.232673",
     "exception": false,
     "start_time": "2023-09-12T15:12:23.216148",
     "status": "completed"
    },
    "tags": []
   },
   "source": [
    "A deeper look at metrics of cost, conversion, revenue by channel and additionally calculated metrics of CAC and ROI has helped to shade a brigher light onto which channel is more profitable and worth doubling or even tripling down in terms of marketing budget and efforts, some take-away insighst gleaned from the analysis are:\n",
    "- Email marketing exhibits the highest ROI and lowest CAC, suggesting opportunities for increased spending investments and more tailored CRM campaigns.\n",
    "- Paid advertising has the lowest ROI yet the highest CAC, indicating a need for budget reduction or drastic strategy adjustments.\n",
    "- Simply increasing the budget does not guarantee improved investment performance; a review of current spending and marketing strategies is necessary as we are not spending marketing money in an efficient way.\n"
   ]
  }
 ],
 "kernelspec": {
  "display_name": "Python 3",
  "language": "python",
  "name": "python3"
 },
 "language_info": {
  "codemirror_mode": {
   "name": "ipython",
   "version": 3
  },
  "file_extension": ".py",
  "mimetype": "text/x-python",
  "name": "python",
  "nbconvert_exporter": "python",
  "pygments_lexer": "ipython3",
  "version": "3.6.4"
 },
 "metadata": {
  "kernelspec": {
   "display_name": "Python 3",
   "language": "python",
   "name": "python3"
  },
  "language_info": {
   "codemirror_mode": {
    "name": "ipython",
    "version": 3
   },
   "file_extension": ".py",
   "mimetype": "text/x-python",
   "name": "python",
   "nbconvert_exporter": "python",
   "pygments_lexer": "ipython3",
   "version": "3.10.12"
  },
  "papermill": {
   "default_parameters": {},
   "duration": 10.897072,
   "end_time": "2023-09-12T15:12:24.174390",
   "environment_variables": {},
   "exception": null,
   "input_path": "__notebook__.ipynb",
   "output_path": "__notebook__.ipynb",
   "parameters": {},
   "start_time": "2023-09-12T15:12:13.277318",
   "version": "2.4.0"
  }
 },
 "nbformat": 4,
 "nbformat_minor": 5
}
